{
 "cells": [
  {
   "cell_type": "markdown",
   "id": "f7ce9dc1",
   "metadata": {},
   "source": [
    "# Basic Bank Info\n",
    "\n",
    "Using yahooquery library to access company info"
   ]
  },
  {
   "cell_type": "code",
   "execution_count": 8,
   "id": "3257aee5",
   "metadata": {},
   "outputs": [],
   "source": [
    "from yahooquery import Ticker\n",
    "from selenium import webdriver  # needed for paid wall on yahoo finance\n",
    "import pandas as pd\n",
    "\n",
    "symbols = ['JPM', 'GS', 'MS', 'SIVBQ']\n",
    "tickers = Ticker(symbols)\n",
    "basic_info = tickers.summary_profile"
   ]
  },
  {
   "cell_type": "code",
   "execution_count": 9,
   "id": "cc46d326",
   "metadata": {},
   "outputs": [
    {
     "data": {
      "text/plain": [
       "{'JPM': {'address1': '383 Madison Avenue',\n",
       "  'city': 'New York',\n",
       "  'state': 'NY',\n",
       "  'zip': '10179',\n",
       "  'country': 'United States',\n",
       "  'phone': '212 270 6000',\n",
       "  'website': 'https://www.jpmorganchase.com',\n",
       "  'industry': 'Banks—Diversified',\n",
       "  'industryDisp': 'Banks—Diversified',\n",
       "  'sector': 'Financial Services',\n",
       "  'longBusinessSummary': 'JPMorgan Chase & Co. operates as a financial services company worldwide. It operates through four segments: Consumer & Community Banking (CCB), Corporate & Investment Bank (CIB), Commercial Banking (CB), and Asset & Wealth Management (AWM). The CCB segment offers deposit, investment and lending products, cash management, and payments and services to consumers and small businesses; mortgage origination and servicing activities; residential mortgages and home equity loans; and credit cards, auto loans, leases, and travel services. The CIB segment provides investment banking products and services, including corporate strategy and structure advisory, and equity and debt markets capital-raising services, as well as loan origination and syndication; payments and cross-border financing; and cash and derivative instruments, risk management solutions, prime brokerage, and research. This segment also offers securities services, including custody, fund accounting and administration, and securities lending products for asset managers, insurance companies, and public and private investment funds. The CB segment provides financial solutions, including lending, payments, investment banking, and asset management to small and midsized companies, local governments, nonprofit clients, and large corporations; and commercial real estate banking services to investors, developers, and owners of multifamily, office, retail, industrial, and affordable housing properties. The AWM segment offers multi-asset investment management solutions in equities, fixed income, alternatives, and money market funds to institutional clients and retail investors; and retirement products and services, brokerage, custody, estate planning, lending, deposits, and investment management products. The company also provides ATM, online and mobile, and telephone banking services. JPMorgan Chase & Co. was founded in 1799 and is headquartered in New York, New York.',\n",
       "  'fullTimeEmployees': 296877,\n",
       "  'companyOfficers': [],\n",
       "  'maxAge': 86400},\n",
       " 'GS': {'address1': '200 West Street',\n",
       "  'city': 'New York',\n",
       "  'state': 'NY',\n",
       "  'zip': '10282',\n",
       "  'country': 'United States',\n",
       "  'phone': '212 902 1000',\n",
       "  'website': 'https://www.goldmansachs.com',\n",
       "  'industry': 'Capital Markets',\n",
       "  'industryDisp': 'Capital Markets',\n",
       "  'sector': 'Financial Services',\n",
       "  'longBusinessSummary': 'The Goldman Sachs Group, Inc., a financial institution, provides a range of financial services for corporations, financial institutions, governments, and individuals worldwide. It operates through Global Banking & Markets, Asset & Wealth Management, and Platform Solutions segments. The Global Banking & Markets segment provides financial advisory services, including strategic advisory assignments related to mergers and acquisitions, divestitures, corporate defense activities, restructurings, and spin-offs; and relationship lending, and acquisition financing, as well as secured lending, through structured credit and asset-backed lending and involved in resale agreements. This segment also offers client execution activities for cash and derivative instruments; credit and interest rate products; and provision of mortgages, currencies, commodities, and equities related products, as well as underwriting services. The Asset & Wealth Management segment manages assets across various classes, including equity, fixed income, hedge funds, credit funds, private equity, real estate, currencies, and commodities; and provides customized investment advisory solutions, wealth advisory services, personalized financial planning, and private banking services, as well as invests in corporate equity, credit, real estate, and infrastructure assets. The Platform Solutions segment offers credit cards and point-of-sale financing for purchase of goods or services. This segment also provides cash management services, such as deposit-taking and payment solutions for corporate and institutional clients. The Goldman Sachs Group, Inc. was founded in 1869 and is headquartered in New York, New York.',\n",
       "  'fullTimeEmployees': 45400,\n",
       "  'companyOfficers': [],\n",
       "  'maxAge': 86400},\n",
       " 'MS': {'address1': '1585 Broadway',\n",
       "  'city': 'New York',\n",
       "  'state': 'NY',\n",
       "  'zip': '10036',\n",
       "  'country': 'United States',\n",
       "  'phone': '212 761 4000',\n",
       "  'website': 'https://www.morganstanley.com',\n",
       "  'industry': 'Capital Markets',\n",
       "  'industryDisp': 'Capital Markets',\n",
       "  'sector': 'Financial Services',\n",
       "  'longBusinessSummary': 'Morgan Stanley, a financial holding company, provides various financial products and services to corporations, governments, financial institutions, and individuals in the Americas, Europe, the Middle East, Africa, and Asia. It operates through Institutional Securities, Wealth Management, and Investment Management segments. The Institutional Securities segment offers capital raising and financial advisory services, including services related to the underwriting of debt, equity, and other securities, as well as advice on mergers and acquisitions, restructurings, real estate, and project finance. This segment also provides equity and fixed income products comprising sales, financing, prime brokerage, and market-making services; foreign exchange and commodities; corporate and commercial real estate loans, commercial mortgage and secured lending facilities, and financing for sales and trading customers, and asset-backed and mortgage lending; and wealth management services, investment, and research services. The Wealth Management segment offers financial advisor-led brokerage, custody, administrative, and investment advisory services; self-directed brokerage services; financial and wealth planning services; workplace services, including stock plan administration; annuity and insurance products; securities-based lending, residential real estate loans, and other lending products; banking; and retirement plan services to individual investors and small to medium-sized businesses and institutions. The Investment Management segment provides equity, fixed income, alternatives and solutions, and liquidity and overlay services to benefit/defined contribution plans, foundations, endowments, government entities, sovereign wealth funds, insurance companies, third-party fund sponsors, corporations, and individuals through institutional and intermediary channels. Morgan Stanley was founded in 1924 and is headquartered in New York, New York.',\n",
       "  'fullTimeEmployees': 82000,\n",
       "  'companyOfficers': [],\n",
       "  'maxAge': 86400},\n",
       " 'SIVBQ': {'address1': '3003 Tasman Drive',\n",
       "  'city': 'Santa Clara',\n",
       "  'state': 'CA',\n",
       "  'zip': '95054-1191',\n",
       "  'country': 'United States',\n",
       "  'phone': '408 654 7400',\n",
       "  'industry': 'Banks—Regional',\n",
       "  'industryDisp': 'Banks—Regional',\n",
       "  'sector': 'Financial Services',\n",
       "  'longBusinessSummary': 'SVB Financial Group, a diversified financial services company, offers various banking and financial products and services. It operates through four segments: Silicon Valley Bank, SVB Private, SVB Capital, and SVB Securities. The Silicon Valley Bank segment provides commercial banking products and services, including credit, treasury management, foreign exchange, trade finance, and other financial products and services. This segment also offers traditional term, growth capital term, and equipment loans, asset-based loans, revolving lines of credit, warehouse facilities, recurring revenue and acquisition finance facilities, mezzanine lending, corporate working capital facilities, and credit card programs; treasury management products and services; business and analysis checking, money market, multi-currency, in-country bank, and sweep accounts; receivables services, which include merchant services, remote capture, lockbox, and fraud control services; wire transfer and automated clearing house payment services; business bill pay, credit and debit cards, account analysis, and disbursement services. In addition, it offers foreign exchange and trade finance products and services; letters of credit; and investment services and solutions. The SVB Private segment offers mortgages, home equity lines of credit, restricted and private stock loans, capital call lines of credit, and other secured and unsecured lending products; planning-based financial strategies, wealth management, family office, financial planning, tax planning, and trust services; and real estate secured loans. The SVB Capital segment provides venture capital investment services. The SVB Securities segment provides investment banking services; products and services, including capital raising, merger and acquisition advisory, equity research, and sales and trading. The company was founded in 1983 and is headquartered in Santa Clara, California. On March 17, 2023, SVB Financial Group, filed a voluntary petition for reorganization under Chapter 11 in the U.S. Bankruptcy Court for the Southern District of New York.',\n",
       "  'fullTimeEmployees': 8553,\n",
       "  'companyOfficers': [],\n",
       "  'maxAge': 86400}}"
      ]
     },
     "execution_count": 9,
     "metadata": {},
     "output_type": "execute_result"
    }
   ],
   "source": [
    "tickers.summary_profile"
   ]
  }
 ],
 "metadata": {
  "kernelspec": {
   "display_name": "Python 3 (ipykernel)",
   "language": "python",
   "name": "python3"
  },
  "language_info": {
   "codemirror_mode": {
    "name": "ipython",
    "version": 3
   },
   "file_extension": ".py",
   "mimetype": "text/x-python",
   "name": "python",
   "nbconvert_exporter": "python",
   "pygments_lexer": "ipython3",
   "version": "3.9.13"
  }
 },
 "nbformat": 4,
 "nbformat_minor": 5
}
